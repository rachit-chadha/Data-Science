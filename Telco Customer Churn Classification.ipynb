{
 "cells": [
  {
   "cell_type": "markdown",
   "metadata": {},
   "source": [
    "###### Rachit Chadha"
   ]
  },
  {
   "cell_type": "markdown",
   "metadata": {},
   "source": [
    "#### Telco Customer Churn Classification"
   ]
  },
  {
   "cell_type": "markdown",
   "metadata": {},
   "source": [
    "# How Likely is the Customer to Churn Away?"
   ]
  },
  {
   "cell_type": "code",
   "execution_count": 59,
   "metadata": {},
   "outputs": [],
   "source": [
    "#imports\n",
    "import pandas as pd\n",
    "import matplotlib.pyplot as plt\n",
    "import seaborn as sns\n",
    "import numpy as np"
   ]
  },
  {
   "cell_type": "code",
   "execution_count": 60,
   "metadata": {},
   "outputs": [],
   "source": [
    "#loaded the data\n",
    "df = pd.read_csv('/Users/Rachit/Downloads/CC.csv')"
   ]
  },
  {
   "cell_type": "code",
   "execution_count": 61,
   "metadata": {},
   "outputs": [
    {
     "data": {
      "text/plain": [
       "7590-VHVEG    1\n",
       "3791-LGQCY    1\n",
       "6008-NAIXK    1\n",
       "5956-YHHRX    1\n",
       "5365-LLFYV    1\n",
       "             ..\n",
       "9796-MVYXX    1\n",
       "2637-FKFSY    1\n",
       "1552-AAGRX    1\n",
       "4304-TSPVK    1\n",
       "3186-AJIEK    1\n",
       "Name: customerID, Length: 7043, dtype: int64"
      ]
     },
     "execution_count": 61,
     "metadata": {},
     "output_type": "execute_result"
    }
   ],
   "source": [
    "# To Check if Feature is unique\n",
    "df.customerID.value_counts()"
   ]
  },
  {
   "cell_type": "code",
   "execution_count": 62,
   "metadata": {},
   "outputs": [],
   "source": [
    "#set index\n",
    "df = df.set_index('customerID')"
   ]
  },
  {
   "cell_type": "markdown",
   "metadata": {},
   "source": [
    "Explore The Data"
   ]
  },
  {
   "cell_type": "code",
   "execution_count": 63,
   "metadata": {},
   "outputs": [
    {
     "data": {
      "text/html": [
       "<div>\n",
       "<style scoped>\n",
       "    .dataframe tbody tr th:only-of-type {\n",
       "        vertical-align: middle;\n",
       "    }\n",
       "\n",
       "    .dataframe tbody tr th {\n",
       "        vertical-align: top;\n",
       "    }\n",
       "\n",
       "    .dataframe thead th {\n",
       "        text-align: right;\n",
       "    }\n",
       "</style>\n",
       "<table border=\"1\" class=\"dataframe\">\n",
       "  <thead>\n",
       "    <tr style=\"text-align: right;\">\n",
       "      <th></th>\n",
       "      <th>gender</th>\n",
       "      <th>SeniorCitizen</th>\n",
       "      <th>Partner</th>\n",
       "      <th>Dependents</th>\n",
       "      <th>tenure</th>\n",
       "      <th>PhoneService</th>\n",
       "      <th>MultipleLines</th>\n",
       "      <th>InternetService</th>\n",
       "      <th>OnlineSecurity</th>\n",
       "      <th>OnlineBackup</th>\n",
       "      <th>DeviceProtection</th>\n",
       "      <th>TechSupport</th>\n",
       "      <th>StreamingTV</th>\n",
       "      <th>StreamingMovies</th>\n",
       "      <th>Contract</th>\n",
       "      <th>PaperlessBilling</th>\n",
       "      <th>PaymentMethod</th>\n",
       "      <th>MonthlyCharges</th>\n",
       "      <th>TotalCharges</th>\n",
       "      <th>Churn</th>\n",
       "    </tr>\n",
       "    <tr>\n",
       "      <th>customerID</th>\n",
       "      <th></th>\n",
       "      <th></th>\n",
       "      <th></th>\n",
       "      <th></th>\n",
       "      <th></th>\n",
       "      <th></th>\n",
       "      <th></th>\n",
       "      <th></th>\n",
       "      <th></th>\n",
       "      <th></th>\n",
       "      <th></th>\n",
       "      <th></th>\n",
       "      <th></th>\n",
       "      <th></th>\n",
       "      <th></th>\n",
       "      <th></th>\n",
       "      <th></th>\n",
       "      <th></th>\n",
       "      <th></th>\n",
       "      <th></th>\n",
       "    </tr>\n",
       "  </thead>\n",
       "  <tbody>\n",
       "    <tr>\n",
       "      <th>7590-VHVEG</th>\n",
       "      <td>Female</td>\n",
       "      <td>0</td>\n",
       "      <td>Yes</td>\n",
       "      <td>No</td>\n",
       "      <td>1</td>\n",
       "      <td>No</td>\n",
       "      <td>No phone service</td>\n",
       "      <td>DSL</td>\n",
       "      <td>No</td>\n",
       "      <td>Yes</td>\n",
       "      <td>No</td>\n",
       "      <td>No</td>\n",
       "      <td>No</td>\n",
       "      <td>No</td>\n",
       "      <td>Month-to-month</td>\n",
       "      <td>Yes</td>\n",
       "      <td>Electronic check</td>\n",
       "      <td>29.85</td>\n",
       "      <td>29.85</td>\n",
       "      <td>No</td>\n",
       "    </tr>\n",
       "    <tr>\n",
       "      <th>5575-GNVDE</th>\n",
       "      <td>Male</td>\n",
       "      <td>0</td>\n",
       "      <td>No</td>\n",
       "      <td>No</td>\n",
       "      <td>34</td>\n",
       "      <td>Yes</td>\n",
       "      <td>No</td>\n",
       "      <td>DSL</td>\n",
       "      <td>Yes</td>\n",
       "      <td>No</td>\n",
       "      <td>Yes</td>\n",
       "      <td>No</td>\n",
       "      <td>No</td>\n",
       "      <td>No</td>\n",
       "      <td>One year</td>\n",
       "      <td>No</td>\n",
       "      <td>Mailed check</td>\n",
       "      <td>56.95</td>\n",
       "      <td>1889.5</td>\n",
       "      <td>No</td>\n",
       "    </tr>\n",
       "    <tr>\n",
       "      <th>3668-QPYBK</th>\n",
       "      <td>Male</td>\n",
       "      <td>0</td>\n",
       "      <td>No</td>\n",
       "      <td>No</td>\n",
       "      <td>2</td>\n",
       "      <td>Yes</td>\n",
       "      <td>No</td>\n",
       "      <td>DSL</td>\n",
       "      <td>Yes</td>\n",
       "      <td>Yes</td>\n",
       "      <td>No</td>\n",
       "      <td>No</td>\n",
       "      <td>No</td>\n",
       "      <td>No</td>\n",
       "      <td>Month-to-month</td>\n",
       "      <td>Yes</td>\n",
       "      <td>Mailed check</td>\n",
       "      <td>53.85</td>\n",
       "      <td>108.15</td>\n",
       "      <td>Yes</td>\n",
       "    </tr>\n",
       "    <tr>\n",
       "      <th>7795-CFOCW</th>\n",
       "      <td>Male</td>\n",
       "      <td>0</td>\n",
       "      <td>No</td>\n",
       "      <td>No</td>\n",
       "      <td>45</td>\n",
       "      <td>No</td>\n",
       "      <td>No phone service</td>\n",
       "      <td>DSL</td>\n",
       "      <td>Yes</td>\n",
       "      <td>No</td>\n",
       "      <td>Yes</td>\n",
       "      <td>Yes</td>\n",
       "      <td>No</td>\n",
       "      <td>No</td>\n",
       "      <td>One year</td>\n",
       "      <td>No</td>\n",
       "      <td>Bank transfer (automatic)</td>\n",
       "      <td>42.30</td>\n",
       "      <td>1840.75</td>\n",
       "      <td>No</td>\n",
       "    </tr>\n",
       "    <tr>\n",
       "      <th>9237-HQITU</th>\n",
       "      <td>Female</td>\n",
       "      <td>0</td>\n",
       "      <td>No</td>\n",
       "      <td>No</td>\n",
       "      <td>2</td>\n",
       "      <td>Yes</td>\n",
       "      <td>No</td>\n",
       "      <td>Fiber optic</td>\n",
       "      <td>No</td>\n",
       "      <td>No</td>\n",
       "      <td>No</td>\n",
       "      <td>No</td>\n",
       "      <td>No</td>\n",
       "      <td>No</td>\n",
       "      <td>Month-to-month</td>\n",
       "      <td>Yes</td>\n",
       "      <td>Electronic check</td>\n",
       "      <td>70.70</td>\n",
       "      <td>151.65</td>\n",
       "      <td>Yes</td>\n",
       "    </tr>\n",
       "  </tbody>\n",
       "</table>\n",
       "</div>"
      ],
      "text/plain": [
       "            gender  SeniorCitizen Partner Dependents  tenure PhoneService  \\\n",
       "customerID                                                                  \n",
       "7590-VHVEG  Female              0     Yes         No       1           No   \n",
       "5575-GNVDE    Male              0      No         No      34          Yes   \n",
       "3668-QPYBK    Male              0      No         No       2          Yes   \n",
       "7795-CFOCW    Male              0      No         No      45           No   \n",
       "9237-HQITU  Female              0      No         No       2          Yes   \n",
       "\n",
       "               MultipleLines InternetService OnlineSecurity OnlineBackup  \\\n",
       "customerID                                                                 \n",
       "7590-VHVEG  No phone service             DSL             No          Yes   \n",
       "5575-GNVDE                No             DSL            Yes           No   \n",
       "3668-QPYBK                No             DSL            Yes          Yes   \n",
       "7795-CFOCW  No phone service             DSL            Yes           No   \n",
       "9237-HQITU                No     Fiber optic             No           No   \n",
       "\n",
       "           DeviceProtection TechSupport StreamingTV StreamingMovies  \\\n",
       "customerID                                                            \n",
       "7590-VHVEG               No          No          No              No   \n",
       "5575-GNVDE              Yes          No          No              No   \n",
       "3668-QPYBK               No          No          No              No   \n",
       "7795-CFOCW              Yes         Yes          No              No   \n",
       "9237-HQITU               No          No          No              No   \n",
       "\n",
       "                  Contract PaperlessBilling              PaymentMethod  \\\n",
       "customerID                                                               \n",
       "7590-VHVEG  Month-to-month              Yes           Electronic check   \n",
       "5575-GNVDE        One year               No               Mailed check   \n",
       "3668-QPYBK  Month-to-month              Yes               Mailed check   \n",
       "7795-CFOCW        One year               No  Bank transfer (automatic)   \n",
       "9237-HQITU  Month-to-month              Yes           Electronic check   \n",
       "\n",
       "            MonthlyCharges TotalCharges Churn  \n",
       "customerID                                     \n",
       "7590-VHVEG           29.85        29.85    No  \n",
       "5575-GNVDE           56.95       1889.5    No  \n",
       "3668-QPYBK           53.85       108.15   Yes  \n",
       "7795-CFOCW           42.30      1840.75    No  \n",
       "9237-HQITU           70.70       151.65   Yes  "
      ]
     },
     "execution_count": 63,
     "metadata": {},
     "output_type": "execute_result"
    }
   ],
   "source": [
    "df.head()"
   ]
  },
  {
   "cell_type": "code",
   "execution_count": 64,
   "metadata": {},
   "outputs": [
    {
     "data": {
      "text/html": [
       "<div>\n",
       "<style scoped>\n",
       "    .dataframe tbody tr th:only-of-type {\n",
       "        vertical-align: middle;\n",
       "    }\n",
       "\n",
       "    .dataframe tbody tr th {\n",
       "        vertical-align: top;\n",
       "    }\n",
       "\n",
       "    .dataframe thead th {\n",
       "        text-align: right;\n",
       "    }\n",
       "</style>\n",
       "<table border=\"1\" class=\"dataframe\">\n",
       "  <thead>\n",
       "    <tr style=\"text-align: right;\">\n",
       "      <th></th>\n",
       "      <th>gender</th>\n",
       "      <th>SeniorCitizen</th>\n",
       "      <th>Partner</th>\n",
       "      <th>Dependents</th>\n",
       "      <th>tenure</th>\n",
       "      <th>PhoneService</th>\n",
       "      <th>MultipleLines</th>\n",
       "      <th>InternetService</th>\n",
       "      <th>OnlineSecurity</th>\n",
       "      <th>OnlineBackup</th>\n",
       "      <th>DeviceProtection</th>\n",
       "      <th>TechSupport</th>\n",
       "      <th>StreamingTV</th>\n",
       "      <th>StreamingMovies</th>\n",
       "      <th>Contract</th>\n",
       "      <th>PaperlessBilling</th>\n",
       "      <th>PaymentMethod</th>\n",
       "      <th>MonthlyCharges</th>\n",
       "      <th>TotalCharges</th>\n",
       "      <th>Churn</th>\n",
       "    </tr>\n",
       "  </thead>\n",
       "  <tbody>\n",
       "    <tr>\n",
       "      <th>count</th>\n",
       "      <td>7043</td>\n",
       "      <td>7043.000000</td>\n",
       "      <td>7043</td>\n",
       "      <td>7043</td>\n",
       "      <td>7043.000000</td>\n",
       "      <td>7043</td>\n",
       "      <td>7043</td>\n",
       "      <td>7043</td>\n",
       "      <td>7043</td>\n",
       "      <td>7043</td>\n",
       "      <td>7043</td>\n",
       "      <td>7043</td>\n",
       "      <td>7043</td>\n",
       "      <td>7043</td>\n",
       "      <td>7043</td>\n",
       "      <td>7043</td>\n",
       "      <td>7043</td>\n",
       "      <td>7043.000000</td>\n",
       "      <td>7043</td>\n",
       "      <td>7043</td>\n",
       "    </tr>\n",
       "    <tr>\n",
       "      <th>unique</th>\n",
       "      <td>2</td>\n",
       "      <td>NaN</td>\n",
       "      <td>2</td>\n",
       "      <td>2</td>\n",
       "      <td>NaN</td>\n",
       "      <td>2</td>\n",
       "      <td>3</td>\n",
       "      <td>3</td>\n",
       "      <td>3</td>\n",
       "      <td>3</td>\n",
       "      <td>3</td>\n",
       "      <td>3</td>\n",
       "      <td>3</td>\n",
       "      <td>3</td>\n",
       "      <td>3</td>\n",
       "      <td>2</td>\n",
       "      <td>4</td>\n",
       "      <td>NaN</td>\n",
       "      <td>6531</td>\n",
       "      <td>2</td>\n",
       "    </tr>\n",
       "    <tr>\n",
       "      <th>top</th>\n",
       "      <td>Male</td>\n",
       "      <td>NaN</td>\n",
       "      <td>No</td>\n",
       "      <td>No</td>\n",
       "      <td>NaN</td>\n",
       "      <td>Yes</td>\n",
       "      <td>No</td>\n",
       "      <td>Fiber optic</td>\n",
       "      <td>No</td>\n",
       "      <td>No</td>\n",
       "      <td>No</td>\n",
       "      <td>No</td>\n",
       "      <td>No</td>\n",
       "      <td>No</td>\n",
       "      <td>Month-to-month</td>\n",
       "      <td>Yes</td>\n",
       "      <td>Electronic check</td>\n",
       "      <td>NaN</td>\n",
       "      <td></td>\n",
       "      <td>No</td>\n",
       "    </tr>\n",
       "    <tr>\n",
       "      <th>freq</th>\n",
       "      <td>3555</td>\n",
       "      <td>NaN</td>\n",
       "      <td>3641</td>\n",
       "      <td>4933</td>\n",
       "      <td>NaN</td>\n",
       "      <td>6361</td>\n",
       "      <td>3390</td>\n",
       "      <td>3096</td>\n",
       "      <td>3498</td>\n",
       "      <td>3088</td>\n",
       "      <td>3095</td>\n",
       "      <td>3473</td>\n",
       "      <td>2810</td>\n",
       "      <td>2785</td>\n",
       "      <td>3875</td>\n",
       "      <td>4171</td>\n",
       "      <td>2365</td>\n",
       "      <td>NaN</td>\n",
       "      <td>11</td>\n",
       "      <td>5174</td>\n",
       "    </tr>\n",
       "    <tr>\n",
       "      <th>mean</th>\n",
       "      <td>NaN</td>\n",
       "      <td>0.162147</td>\n",
       "      <td>NaN</td>\n",
       "      <td>NaN</td>\n",
       "      <td>32.371149</td>\n",
       "      <td>NaN</td>\n",
       "      <td>NaN</td>\n",
       "      <td>NaN</td>\n",
       "      <td>NaN</td>\n",
       "      <td>NaN</td>\n",
       "      <td>NaN</td>\n",
       "      <td>NaN</td>\n",
       "      <td>NaN</td>\n",
       "      <td>NaN</td>\n",
       "      <td>NaN</td>\n",
       "      <td>NaN</td>\n",
       "      <td>NaN</td>\n",
       "      <td>64.761692</td>\n",
       "      <td>NaN</td>\n",
       "      <td>NaN</td>\n",
       "    </tr>\n",
       "    <tr>\n",
       "      <th>std</th>\n",
       "      <td>NaN</td>\n",
       "      <td>0.368612</td>\n",
       "      <td>NaN</td>\n",
       "      <td>NaN</td>\n",
       "      <td>24.559481</td>\n",
       "      <td>NaN</td>\n",
       "      <td>NaN</td>\n",
       "      <td>NaN</td>\n",
       "      <td>NaN</td>\n",
       "      <td>NaN</td>\n",
       "      <td>NaN</td>\n",
       "      <td>NaN</td>\n",
       "      <td>NaN</td>\n",
       "      <td>NaN</td>\n",
       "      <td>NaN</td>\n",
       "      <td>NaN</td>\n",
       "      <td>NaN</td>\n",
       "      <td>30.090047</td>\n",
       "      <td>NaN</td>\n",
       "      <td>NaN</td>\n",
       "    </tr>\n",
       "    <tr>\n",
       "      <th>min</th>\n",
       "      <td>NaN</td>\n",
       "      <td>0.000000</td>\n",
       "      <td>NaN</td>\n",
       "      <td>NaN</td>\n",
       "      <td>0.000000</td>\n",
       "      <td>NaN</td>\n",
       "      <td>NaN</td>\n",
       "      <td>NaN</td>\n",
       "      <td>NaN</td>\n",
       "      <td>NaN</td>\n",
       "      <td>NaN</td>\n",
       "      <td>NaN</td>\n",
       "      <td>NaN</td>\n",
       "      <td>NaN</td>\n",
       "      <td>NaN</td>\n",
       "      <td>NaN</td>\n",
       "      <td>NaN</td>\n",
       "      <td>18.250000</td>\n",
       "      <td>NaN</td>\n",
       "      <td>NaN</td>\n",
       "    </tr>\n",
       "    <tr>\n",
       "      <th>25%</th>\n",
       "      <td>NaN</td>\n",
       "      <td>0.000000</td>\n",
       "      <td>NaN</td>\n",
       "      <td>NaN</td>\n",
       "      <td>9.000000</td>\n",
       "      <td>NaN</td>\n",
       "      <td>NaN</td>\n",
       "      <td>NaN</td>\n",
       "      <td>NaN</td>\n",
       "      <td>NaN</td>\n",
       "      <td>NaN</td>\n",
       "      <td>NaN</td>\n",
       "      <td>NaN</td>\n",
       "      <td>NaN</td>\n",
       "      <td>NaN</td>\n",
       "      <td>NaN</td>\n",
       "      <td>NaN</td>\n",
       "      <td>35.500000</td>\n",
       "      <td>NaN</td>\n",
       "      <td>NaN</td>\n",
       "    </tr>\n",
       "    <tr>\n",
       "      <th>50%</th>\n",
       "      <td>NaN</td>\n",
       "      <td>0.000000</td>\n",
       "      <td>NaN</td>\n",
       "      <td>NaN</td>\n",
       "      <td>29.000000</td>\n",
       "      <td>NaN</td>\n",
       "      <td>NaN</td>\n",
       "      <td>NaN</td>\n",
       "      <td>NaN</td>\n",
       "      <td>NaN</td>\n",
       "      <td>NaN</td>\n",
       "      <td>NaN</td>\n",
       "      <td>NaN</td>\n",
       "      <td>NaN</td>\n",
       "      <td>NaN</td>\n",
       "      <td>NaN</td>\n",
       "      <td>NaN</td>\n",
       "      <td>70.350000</td>\n",
       "      <td>NaN</td>\n",
       "      <td>NaN</td>\n",
       "    </tr>\n",
       "    <tr>\n",
       "      <th>75%</th>\n",
       "      <td>NaN</td>\n",
       "      <td>0.000000</td>\n",
       "      <td>NaN</td>\n",
       "      <td>NaN</td>\n",
       "      <td>55.000000</td>\n",
       "      <td>NaN</td>\n",
       "      <td>NaN</td>\n",
       "      <td>NaN</td>\n",
       "      <td>NaN</td>\n",
       "      <td>NaN</td>\n",
       "      <td>NaN</td>\n",
       "      <td>NaN</td>\n",
       "      <td>NaN</td>\n",
       "      <td>NaN</td>\n",
       "      <td>NaN</td>\n",
       "      <td>NaN</td>\n",
       "      <td>NaN</td>\n",
       "      <td>89.850000</td>\n",
       "      <td>NaN</td>\n",
       "      <td>NaN</td>\n",
       "    </tr>\n",
       "    <tr>\n",
       "      <th>max</th>\n",
       "      <td>NaN</td>\n",
       "      <td>1.000000</td>\n",
       "      <td>NaN</td>\n",
       "      <td>NaN</td>\n",
       "      <td>72.000000</td>\n",
       "      <td>NaN</td>\n",
       "      <td>NaN</td>\n",
       "      <td>NaN</td>\n",
       "      <td>NaN</td>\n",
       "      <td>NaN</td>\n",
       "      <td>NaN</td>\n",
       "      <td>NaN</td>\n",
       "      <td>NaN</td>\n",
       "      <td>NaN</td>\n",
       "      <td>NaN</td>\n",
       "      <td>NaN</td>\n",
       "      <td>NaN</td>\n",
       "      <td>118.750000</td>\n",
       "      <td>NaN</td>\n",
       "      <td>NaN</td>\n",
       "    </tr>\n",
       "  </tbody>\n",
       "</table>\n",
       "</div>"
      ],
      "text/plain": [
       "       gender  SeniorCitizen Partner Dependents       tenure PhoneService  \\\n",
       "count    7043    7043.000000    7043       7043  7043.000000         7043   \n",
       "unique      2            NaN       2          2          NaN            2   \n",
       "top      Male            NaN      No         No          NaN          Yes   \n",
       "freq     3555            NaN    3641       4933          NaN         6361   \n",
       "mean      NaN       0.162147     NaN        NaN    32.371149          NaN   \n",
       "std       NaN       0.368612     NaN        NaN    24.559481          NaN   \n",
       "min       NaN       0.000000     NaN        NaN     0.000000          NaN   \n",
       "25%       NaN       0.000000     NaN        NaN     9.000000          NaN   \n",
       "50%       NaN       0.000000     NaN        NaN    29.000000          NaN   \n",
       "75%       NaN       0.000000     NaN        NaN    55.000000          NaN   \n",
       "max       NaN       1.000000     NaN        NaN    72.000000          NaN   \n",
       "\n",
       "       MultipleLines InternetService OnlineSecurity OnlineBackup  \\\n",
       "count           7043            7043           7043         7043   \n",
       "unique             3               3              3            3   \n",
       "top               No     Fiber optic             No           No   \n",
       "freq            3390            3096           3498         3088   \n",
       "mean             NaN             NaN            NaN          NaN   \n",
       "std              NaN             NaN            NaN          NaN   \n",
       "min              NaN             NaN            NaN          NaN   \n",
       "25%              NaN             NaN            NaN          NaN   \n",
       "50%              NaN             NaN            NaN          NaN   \n",
       "75%              NaN             NaN            NaN          NaN   \n",
       "max              NaN             NaN            NaN          NaN   \n",
       "\n",
       "       DeviceProtection TechSupport StreamingTV StreamingMovies  \\\n",
       "count              7043        7043        7043            7043   \n",
       "unique                3           3           3               3   \n",
       "top                  No          No          No              No   \n",
       "freq               3095        3473        2810            2785   \n",
       "mean                NaN         NaN         NaN             NaN   \n",
       "std                 NaN         NaN         NaN             NaN   \n",
       "min                 NaN         NaN         NaN             NaN   \n",
       "25%                 NaN         NaN         NaN             NaN   \n",
       "50%                 NaN         NaN         NaN             NaN   \n",
       "75%                 NaN         NaN         NaN             NaN   \n",
       "max                 NaN         NaN         NaN             NaN   \n",
       "\n",
       "              Contract PaperlessBilling     PaymentMethod  MonthlyCharges  \\\n",
       "count             7043             7043              7043     7043.000000   \n",
       "unique               3                2                 4             NaN   \n",
       "top     Month-to-month              Yes  Electronic check             NaN   \n",
       "freq              3875             4171              2365             NaN   \n",
       "mean               NaN              NaN               NaN       64.761692   \n",
       "std                NaN              NaN               NaN       30.090047   \n",
       "min                NaN              NaN               NaN       18.250000   \n",
       "25%                NaN              NaN               NaN       35.500000   \n",
       "50%                NaN              NaN               NaN       70.350000   \n",
       "75%                NaN              NaN               NaN       89.850000   \n",
       "max                NaN              NaN               NaN      118.750000   \n",
       "\n",
       "       TotalCharges Churn  \n",
       "count          7043  7043  \n",
       "unique         6531     2  \n",
       "top                    No  \n",
       "freq             11  5174  \n",
       "mean            NaN   NaN  \n",
       "std             NaN   NaN  \n",
       "min             NaN   NaN  \n",
       "25%             NaN   NaN  \n",
       "50%             NaN   NaN  \n",
       "75%             NaN   NaN  \n",
       "max             NaN   NaN  "
      ]
     },
     "execution_count": 64,
     "metadata": {},
     "output_type": "execute_result"
    }
   ],
   "source": [
    "# What are my binary variables to convert?\n",
    "#df.describe gives quantitative variables. \"include All\" is to include categorical\n",
    "df.describe(include=\"all\")"
   ]
  },
  {
   "cell_type": "code",
   "execution_count": 65,
   "metadata": {},
   "outputs": [
    {
     "data": {
      "text/plain": [
       "Index(['gender', 'SeniorCitizen', 'Partner', 'Dependents', 'tenure',\n",
       "       'PhoneService', 'MultipleLines', 'InternetService', 'OnlineSecurity',\n",
       "       'OnlineBackup', 'DeviceProtection', 'TechSupport', 'StreamingTV',\n",
       "       'StreamingMovies', 'Contract', 'PaperlessBilling', 'PaymentMethod',\n",
       "       'MonthlyCharges', 'TotalCharges', 'Churn'],\n",
       "      dtype='object')"
      ]
     },
     "execution_count": 65,
     "metadata": {},
     "output_type": "execute_result"
    }
   ],
   "source": [
    "#here is a list of column names to split into binary, categorical, numerical\n",
    "df.columns"
   ]
  },
  {
   "cell_type": "code",
   "execution_count": 66,
   "metadata": {
    "scrolled": false
   },
   "outputs": [
    {
     "data": {
      "text/plain": [
       "gender              0\n",
       "SeniorCitizen       0\n",
       "Partner             0\n",
       "Dependents          0\n",
       "tenure              0\n",
       "PhoneService        0\n",
       "MultipleLines       0\n",
       "InternetService     0\n",
       "OnlineSecurity      0\n",
       "OnlineBackup        0\n",
       "DeviceProtection    0\n",
       "TechSupport         0\n",
       "StreamingTV         0\n",
       "StreamingMovies     0\n",
       "Contract            0\n",
       "PaperlessBilling    0\n",
       "PaymentMethod       0\n",
       "MonthlyCharges      0\n",
       "TotalCharges        0\n",
       "Churn               0\n",
       "dtype: int64"
      ]
     },
     "execution_count": 66,
     "metadata": {},
     "output_type": "execute_result"
    }
   ],
   "source": [
    "#Check for N/A\n",
    "df.isna().sum()"
   ]
  },
  {
   "cell_type": "markdown",
   "metadata": {},
   "source": [
    "Split the Data by making a list of Binary, Categorical and Binary variables"
   ]
  },
  {
   "cell_type": "code",
   "execution_count": 67,
   "metadata": {},
   "outputs": [],
   "source": [
    "binary_var = ['gender','Partner','Dependents','PhoneService', 'MultipleLines', 'OnlineSecurity',\n",
    "       'OnlineBackup', 'DeviceProtection', 'TechSupport', 'StreamingTV',\n",
    "       'StreamingMovies','PaperlessBilling', 'Churn']"
   ]
  },
  {
   "cell_type": "code",
   "execution_count": 68,
   "metadata": {},
   "outputs": [
    {
     "name": "stdout",
     "output_type": "stream",
     "text": [
      "gender ['Female' 'Male']\n",
      "Partner ['Yes' 'No']\n",
      "Dependents ['No' 'Yes']\n",
      "PhoneService ['No' 'Yes']\n",
      "MultipleLines ['No phone service' 'No' 'Yes']\n",
      "OnlineSecurity ['No' 'Yes' 'No internet service']\n",
      "OnlineBackup ['Yes' 'No' 'No internet service']\n",
      "DeviceProtection ['No' 'Yes' 'No internet service']\n",
      "TechSupport ['No' 'Yes' 'No internet service']\n",
      "StreamingTV ['No' 'Yes' 'No internet service']\n",
      "StreamingMovies ['No' 'Yes' 'No internet service']\n",
      "PaperlessBilling ['Yes' 'No']\n",
      "Churn ['No' 'Yes']\n"
     ]
    }
   ],
   "source": [
    "#now we see unique values that we'll convert\n",
    "for i in binary_var:\n",
    "    print (i,df[i].unique())"
   ]
  },
  {
   "cell_type": "markdown",
   "metadata": {},
   "source": [
    "Convert the String values to Binary Values"
   ]
  },
  {
   "cell_type": "code",
   "execution_count": 69,
   "metadata": {},
   "outputs": [],
   "source": [
    "#converted Gender to binary\n",
    "df['gender'] = df['gender'].replace('Female', 1)\n",
    "df['gender'] = df['gender'].replace('Male', 0)"
   ]
  },
  {
   "cell_type": "code",
   "execution_count": 70,
   "metadata": {},
   "outputs": [
    {
     "data": {
      "text/plain": [
       "customerID\n",
       "7590-VHVEG    1\n",
       "5575-GNVDE    0\n",
       "3668-QPYBK    0\n",
       "7795-CFOCW    0\n",
       "9237-HQITU    1\n",
       "             ..\n",
       "6840-RESVB    0\n",
       "2234-XADUH    1\n",
       "4801-JZAZL    1\n",
       "8361-LTMKD    0\n",
       "3186-AJIEK    0\n",
       "Name: gender, Length: 7043, dtype: int64"
      ]
     },
     "execution_count": 70,
     "metadata": {},
     "output_type": "execute_result"
    }
   ],
   "source": [
    "df['gender']"
   ]
  },
  {
   "cell_type": "code",
   "execution_count": 71,
   "metadata": {
    "scrolled": true
   },
   "outputs": [],
   "source": [
    "#removed gender cuz rest are similar\n",
    "binary_var.remove('gender')"
   ]
  },
  {
   "cell_type": "code",
   "execution_count": 72,
   "metadata": {},
   "outputs": [
    {
     "data": {
      "text/plain": [
       "['Partner',\n",
       " 'Dependents',\n",
       " 'PhoneService',\n",
       " 'MultipleLines',\n",
       " 'OnlineSecurity',\n",
       " 'OnlineBackup',\n",
       " 'DeviceProtection',\n",
       " 'TechSupport',\n",
       " 'StreamingTV',\n",
       " 'StreamingMovies',\n",
       " 'PaperlessBilling',\n",
       " 'Churn']"
      ]
     },
     "execution_count": 72,
     "metadata": {},
     "output_type": "execute_result"
    }
   ],
   "source": [
    "binary_var"
   ]
  },
  {
   "cell_type": "code",
   "execution_count": 73,
   "metadata": {},
   "outputs": [],
   "source": [
    "#List Comprehension to convert our binary variables \n",
    "for i in binary_var:\n",
    "  df[i] = [1 if x == 'Yes' else 0 for x in df[i]]"
   ]
  },
  {
   "cell_type": "code",
   "execution_count": 74,
   "metadata": {},
   "outputs": [
    {
     "name": "stdout",
     "output_type": "stream",
     "text": [
      "            Partner  Dependents  PhoneService  MultipleLines  OnlineSecurity  \\\n",
      "customerID                                                                     \n",
      "7590-VHVEG        1           0             0              0               0   \n",
      "5575-GNVDE        0           0             1              0               1   \n",
      "3668-QPYBK        0           0             1              0               1   \n",
      "7795-CFOCW        0           0             0              0               1   \n",
      "9237-HQITU        0           0             1              0               0   \n",
      "...             ...         ...           ...            ...             ...   \n",
      "6840-RESVB        1           1             1              1               1   \n",
      "2234-XADUH        1           1             1              1               0   \n",
      "4801-JZAZL        1           1             0              0               1   \n",
      "8361-LTMKD        1           0             1              1               0   \n",
      "3186-AJIEK        0           0             1              0               1   \n",
      "\n",
      "            OnlineBackup  DeviceProtection  TechSupport  StreamingTV  \\\n",
      "customerID                                                             \n",
      "7590-VHVEG             1                 0            0            0   \n",
      "5575-GNVDE             0                 1            0            0   \n",
      "3668-QPYBK             1                 0            0            0   \n",
      "7795-CFOCW             0                 1            1            0   \n",
      "9237-HQITU             0                 0            0            0   \n",
      "...                  ...               ...          ...          ...   \n",
      "6840-RESVB             0                 1            1            1   \n",
      "2234-XADUH             1                 1            0            1   \n",
      "4801-JZAZL             0                 0            0            0   \n",
      "8361-LTMKD             0                 0            0            0   \n",
      "3186-AJIEK             0                 1            1            1   \n",
      "\n",
      "            StreamingMovies  PaperlessBilling  Churn  \n",
      "customerID                                            \n",
      "7590-VHVEG                0                 1      0  \n",
      "5575-GNVDE                0                 0      0  \n",
      "3668-QPYBK                0                 1      1  \n",
      "7795-CFOCW                0                 0      0  \n",
      "9237-HQITU                0                 1      1  \n",
      "...                     ...               ...    ...  \n",
      "6840-RESVB                1                 1      0  \n",
      "2234-XADUH                1                 1      0  \n",
      "4801-JZAZL                0                 1      0  \n",
      "8361-LTMKD                0                 1      1  \n",
      "3186-AJIEK                1                 1      0  \n",
      "\n",
      "[7043 rows x 12 columns]\n"
     ]
    }
   ],
   "source": [
    "print(df[binary_var])"
   ]
  },
  {
   "cell_type": "code",
   "execution_count": 75,
   "metadata": {},
   "outputs": [
    {
     "data": {
      "text/plain": [
       "['tenure', 'MonthlyCharges', 'TotalCharges']"
      ]
     },
     "execution_count": 75,
     "metadata": {},
     "output_type": "execute_result"
    }
   ],
   "source": [
    "#now to convert numerical variables\n",
    "numerical_var = ['tenure', 'MonthlyCharges', 'TotalCharges']\n",
    "numerical_var"
   ]
  },
  {
   "cell_type": "markdown",
   "metadata": {},
   "source": [
    "Check and Clean Numerical Variables "
   ]
  },
  {
   "cell_type": "code",
   "execution_count": 76,
   "metadata": {},
   "outputs": [
    {
     "name": "stdout",
     "output_type": "stream",
     "text": [
      "tenure [ 1 34  2 45  8 22 10 28 62 13 16 58 49 25 69 52 71 21 12 30 47 72 17 27\n",
      "  5 46 11 70 63 43 15 60 18 66  9  3 31 50 64 56  7 42 35 48 29 65 38 68\n",
      " 32 55 37 36 41  6  4 33 67 23 57 61 14 20 53 40 59 24 44 19 54 51 26  0\n",
      " 39]\n",
      "MonthlyCharges [29.85 56.95 53.85 ... 63.1  44.2  78.7 ]\n",
      "TotalCharges ['29.85' '1889.5' '108.15' ... '346.45' '306.6' '6844.5']\n"
     ]
    }
   ],
   "source": [
    "#total charges as '' so gotta convert string to numerical\n",
    "for i in numerical_var:\n",
    "    print (i,df[i].unique())"
   ]
  },
  {
   "cell_type": "code",
   "execution_count": 77,
   "metadata": {
    "scrolled": true
   },
   "outputs": [],
   "source": [
    "df.TotalCharges = df.TotalCharges.replace(\" \", np.nan)"
   ]
  },
  {
   "cell_type": "code",
   "execution_count": 78,
   "metadata": {},
   "outputs": [],
   "source": [
    "df.TotalCharges = pd.to_numeric(df['TotalCharges'])"
   ]
  },
  {
   "cell_type": "code",
   "execution_count": 79,
   "metadata": {},
   "outputs": [
    {
     "name": "stdout",
     "output_type": "stream",
     "text": [
      "tenure [ 1 34  2 45  8 22 10 28 62 13 16 58 49 25 69 52 71 21 12 30 47 72 17 27\n",
      "  5 46 11 70 63 43 15 60 18 66  9  3 31 50 64 56  7 42 35 48 29 65 38 68\n",
      " 32 55 37 36 41  6  4 33 67 23 57 61 14 20 53 40 59 24 44 19 54 51 26  0\n",
      " 39]\n",
      "MonthlyCharges [29.85 56.95 53.85 ... 63.1  44.2  78.7 ]\n",
      "TotalCharges [  29.85 1889.5   108.15 ...  346.45  306.6  6844.5 ]\n"
     ]
    }
   ],
   "source": [
    "#check Again\n",
    "for i in numerical_var:\n",
    "    print (i,df[i].unique())"
   ]
  },
  {
   "cell_type": "markdown",
   "metadata": {},
   "source": [
    "Standardize the Data for Classification"
   ]
  },
  {
   "cell_type": "code",
   "execution_count": 80,
   "metadata": {},
   "outputs": [
    {
     "name": "stdout",
     "output_type": "stream",
     "text": [
      "StandardScaler()\n",
      "[  32.37114866   64.76169246 2283.30044084]\n"
     ]
    }
   ],
   "source": [
    "#import the new package\n",
    "from sklearn.preprocessing import StandardScaler\n",
    "scaler = StandardScaler()\n",
    "print(scaler.fit(df[numerical_var]))\n",
    "StandardScaler()\n",
    "print(scaler.mean_)\n",
    "df[numerical_var] = scaler.transform(df[numerical_var])\n"
   ]
  },
  {
   "cell_type": "code",
   "execution_count": 81,
   "metadata": {},
   "outputs": [
    {
     "data": {
      "text/html": [
       "<div>\n",
       "<style scoped>\n",
       "    .dataframe tbody tr th:only-of-type {\n",
       "        vertical-align: middle;\n",
       "    }\n",
       "\n",
       "    .dataframe tbody tr th {\n",
       "        vertical-align: top;\n",
       "    }\n",
       "\n",
       "    .dataframe thead th {\n",
       "        text-align: right;\n",
       "    }\n",
       "</style>\n",
       "<table border=\"1\" class=\"dataframe\">\n",
       "  <thead>\n",
       "    <tr style=\"text-align: right;\">\n",
       "      <th></th>\n",
       "      <th>tenure</th>\n",
       "      <th>MonthlyCharges</th>\n",
       "      <th>TotalCharges</th>\n",
       "    </tr>\n",
       "    <tr>\n",
       "      <th>customerID</th>\n",
       "      <th></th>\n",
       "      <th></th>\n",
       "      <th></th>\n",
       "    </tr>\n",
       "  </thead>\n",
       "  <tbody>\n",
       "    <tr>\n",
       "      <th>7590-VHVEG</th>\n",
       "      <td>-1.277445</td>\n",
       "      <td>-1.160323</td>\n",
       "      <td>-0.994194</td>\n",
       "    </tr>\n",
       "    <tr>\n",
       "      <th>5575-GNVDE</th>\n",
       "      <td>0.066327</td>\n",
       "      <td>-0.259629</td>\n",
       "      <td>-0.173740</td>\n",
       "    </tr>\n",
       "    <tr>\n",
       "      <th>3668-QPYBK</th>\n",
       "      <td>-1.236724</td>\n",
       "      <td>-0.362660</td>\n",
       "      <td>-0.959649</td>\n",
       "    </tr>\n",
       "    <tr>\n",
       "      <th>7795-CFOCW</th>\n",
       "      <td>0.514251</td>\n",
       "      <td>-0.746535</td>\n",
       "      <td>-0.195248</td>\n",
       "    </tr>\n",
       "    <tr>\n",
       "      <th>9237-HQITU</th>\n",
       "      <td>-1.236724</td>\n",
       "      <td>0.197365</td>\n",
       "      <td>-0.940457</td>\n",
       "    </tr>\n",
       "    <tr>\n",
       "      <th>...</th>\n",
       "      <td>...</td>\n",
       "      <td>...</td>\n",
       "      <td>...</td>\n",
       "    </tr>\n",
       "    <tr>\n",
       "      <th>6840-RESVB</th>\n",
       "      <td>-0.340876</td>\n",
       "      <td>0.665992</td>\n",
       "      <td>-0.129180</td>\n",
       "    </tr>\n",
       "    <tr>\n",
       "      <th>2234-XADUH</th>\n",
       "      <td>1.613701</td>\n",
       "      <td>1.277533</td>\n",
       "      <td>2.241056</td>\n",
       "    </tr>\n",
       "    <tr>\n",
       "      <th>4801-JZAZL</th>\n",
       "      <td>-0.870241</td>\n",
       "      <td>-1.168632</td>\n",
       "      <td>-0.854514</td>\n",
       "    </tr>\n",
       "    <tr>\n",
       "      <th>8361-LTMKD</th>\n",
       "      <td>-1.155283</td>\n",
       "      <td>0.320338</td>\n",
       "      <td>-0.872095</td>\n",
       "    </tr>\n",
       "    <tr>\n",
       "      <th>3186-AJIEK</th>\n",
       "      <td>1.369379</td>\n",
       "      <td>1.358961</td>\n",
       "      <td>2.012344</td>\n",
       "    </tr>\n",
       "  </tbody>\n",
       "</table>\n",
       "<p>7043 rows × 3 columns</p>\n",
       "</div>"
      ],
      "text/plain": [
       "              tenure  MonthlyCharges  TotalCharges\n",
       "customerID                                        \n",
       "7590-VHVEG -1.277445       -1.160323     -0.994194\n",
       "5575-GNVDE  0.066327       -0.259629     -0.173740\n",
       "3668-QPYBK -1.236724       -0.362660     -0.959649\n",
       "7795-CFOCW  0.514251       -0.746535     -0.195248\n",
       "9237-HQITU -1.236724        0.197365     -0.940457\n",
       "...              ...             ...           ...\n",
       "6840-RESVB -0.340876        0.665992     -0.129180\n",
       "2234-XADUH  1.613701        1.277533      2.241056\n",
       "4801-JZAZL -0.870241       -1.168632     -0.854514\n",
       "8361-LTMKD -1.155283        0.320338     -0.872095\n",
       "3186-AJIEK  1.369379        1.358961      2.012344\n",
       "\n",
       "[7043 rows x 3 columns]"
      ]
     },
     "execution_count": 81,
     "metadata": {},
     "output_type": "execute_result"
    }
   ],
   "source": [
    "#now were all standardized \n",
    "df[numerical_var]"
   ]
  },
  {
   "cell_type": "markdown",
   "metadata": {},
   "source": [
    "Lastly, we Convert Catagorical variables to binary values by using OneHotEncoder"
   ]
  },
  {
   "cell_type": "code",
   "execution_count": 82,
   "metadata": {},
   "outputs": [
    {
     "name": "stdout",
     "output_type": "stream",
     "text": [
      "InternetService ['DSL' 'Fiber optic' 'No']\n",
      "Contract ['Month-to-month' 'One year' 'Two year']\n",
      "PaymentMethod ['Electronic check' 'Mailed check' 'Bank transfer (automatic)'\n",
      " 'Credit card (automatic)']\n"
     ]
    }
   ],
   "source": [
    "# Now to tackle categorical variables\n",
    "cat_var = ['InternetService', 'Contract', 'PaymentMethod']\n",
    "for i in cat_var:\n",
    "    print (i,df[i].unique())"
   ]
  },
  {
   "cell_type": "code",
   "execution_count": 83,
   "metadata": {},
   "outputs": [
    {
     "name": "stdout",
     "output_type": "stream",
     "text": [
      "      x0_DSL  x0_Fiber optic  x0_No  x1_Month-to-month  x1_One year  \\\n",
      "0        1.0             0.0    0.0                1.0          0.0   \n",
      "1        1.0             0.0    0.0                0.0          1.0   \n",
      "2        1.0             0.0    0.0                1.0          0.0   \n",
      "3        1.0             0.0    0.0                0.0          1.0   \n",
      "4        0.0             1.0    0.0                1.0          0.0   \n",
      "...      ...             ...    ...                ...          ...   \n",
      "7038     1.0             0.0    0.0                0.0          1.0   \n",
      "7039     0.0             1.0    0.0                0.0          1.0   \n",
      "7040     1.0             0.0    0.0                1.0          0.0   \n",
      "7041     0.0             1.0    0.0                1.0          0.0   \n",
      "7042     0.0             1.0    0.0                0.0          0.0   \n",
      "\n",
      "      x1_Two year  x2_Bank transfer (automatic)  x2_Credit card (automatic)  \\\n",
      "0             0.0                           0.0                         0.0   \n",
      "1             0.0                           0.0                         0.0   \n",
      "2             0.0                           0.0                         0.0   \n",
      "3             0.0                           1.0                         0.0   \n",
      "4             0.0                           0.0                         0.0   \n",
      "...           ...                           ...                         ...   \n",
      "7038          0.0                           0.0                         0.0   \n",
      "7039          0.0                           0.0                         1.0   \n",
      "7040          0.0                           0.0                         0.0   \n",
      "7041          0.0                           0.0                         0.0   \n",
      "7042          1.0                           1.0                         0.0   \n",
      "\n",
      "      x2_Electronic check  x2_Mailed check  \n",
      "0                     1.0              0.0  \n",
      "1                     0.0              1.0  \n",
      "2                     0.0              1.0  \n",
      "3                     0.0              0.0  \n",
      "4                     1.0              0.0  \n",
      "...                   ...              ...  \n",
      "7038                  0.0              1.0  \n",
      "7039                  0.0              0.0  \n",
      "7040                  1.0              0.0  \n",
      "7041                  0.0              1.0  \n",
      "7042                  0.0              0.0  \n",
      "\n",
      "[7043 rows x 10 columns]\n"
     ]
    }
   ],
   "source": [
    "#import OneHotEncoder to convert catagorical var to 0 and 1\n",
    "from sklearn.preprocessing import OneHotEncoder\n",
    "# creating instance of one-hot-encoder\n",
    "enc = OneHotEncoder(handle_unknown='ignore')\n",
    "a = pd.DataFrame(enc.fit_transform(df[cat_var]).toarray())\n",
    "a.columns = enc.get_feature_names()\n",
    "print(a)"
   ]
  },
  {
   "cell_type": "markdown",
   "metadata": {},
   "source": [
    "We Can Now Add All 3 (Numerical, Categorical and Binary) variables now cleaned to the Data Frame and delete the old columns"
   ]
  },
  {
   "cell_type": "code",
   "execution_count": 84,
   "metadata": {},
   "outputs": [],
   "source": [
    "# Now were setting index of first df as the index of the second df\n",
    "a = a.set_index(df.index)"
   ]
  },
  {
   "cell_type": "code",
   "execution_count": 85,
   "metadata": {},
   "outputs": [],
   "source": [
    "df = pd.concat([df,a], axis = 1)"
   ]
  },
  {
   "cell_type": "code",
   "execution_count": 86,
   "metadata": {},
   "outputs": [],
   "source": [
    "df = df.drop(columns = cat_var)\n"
   ]
  },
  {
   "cell_type": "code",
   "execution_count": 87,
   "metadata": {},
   "outputs": [
    {
     "data": {
      "text/html": [
       "<div>\n",
       "<style scoped>\n",
       "    .dataframe tbody tr th:only-of-type {\n",
       "        vertical-align: middle;\n",
       "    }\n",
       "\n",
       "    .dataframe tbody tr th {\n",
       "        vertical-align: top;\n",
       "    }\n",
       "\n",
       "    .dataframe thead th {\n",
       "        text-align: right;\n",
       "    }\n",
       "</style>\n",
       "<table border=\"1\" class=\"dataframe\">\n",
       "  <thead>\n",
       "    <tr style=\"text-align: right;\">\n",
       "      <th></th>\n",
       "      <th>gender</th>\n",
       "      <th>SeniorCitizen</th>\n",
       "      <th>Partner</th>\n",
       "      <th>Dependents</th>\n",
       "      <th>tenure</th>\n",
       "      <th>PhoneService</th>\n",
       "      <th>MultipleLines</th>\n",
       "      <th>OnlineSecurity</th>\n",
       "      <th>OnlineBackup</th>\n",
       "      <th>DeviceProtection</th>\n",
       "      <th>...</th>\n",
       "      <th>x0_DSL</th>\n",
       "      <th>x0_Fiber optic</th>\n",
       "      <th>x0_No</th>\n",
       "      <th>x1_Month-to-month</th>\n",
       "      <th>x1_One year</th>\n",
       "      <th>x1_Two year</th>\n",
       "      <th>x2_Bank transfer (automatic)</th>\n",
       "      <th>x2_Credit card (automatic)</th>\n",
       "      <th>x2_Electronic check</th>\n",
       "      <th>x2_Mailed check</th>\n",
       "    </tr>\n",
       "    <tr>\n",
       "      <th>customerID</th>\n",
       "      <th></th>\n",
       "      <th></th>\n",
       "      <th></th>\n",
       "      <th></th>\n",
       "      <th></th>\n",
       "      <th></th>\n",
       "      <th></th>\n",
       "      <th></th>\n",
       "      <th></th>\n",
       "      <th></th>\n",
       "      <th></th>\n",
       "      <th></th>\n",
       "      <th></th>\n",
       "      <th></th>\n",
       "      <th></th>\n",
       "      <th></th>\n",
       "      <th></th>\n",
       "      <th></th>\n",
       "      <th></th>\n",
       "      <th></th>\n",
       "      <th></th>\n",
       "    </tr>\n",
       "  </thead>\n",
       "  <tbody>\n",
       "    <tr>\n",
       "      <th>7590-VHVEG</th>\n",
       "      <td>1</td>\n",
       "      <td>0</td>\n",
       "      <td>1</td>\n",
       "      <td>0</td>\n",
       "      <td>-1.277445</td>\n",
       "      <td>0</td>\n",
       "      <td>0</td>\n",
       "      <td>0</td>\n",
       "      <td>1</td>\n",
       "      <td>0</td>\n",
       "      <td>...</td>\n",
       "      <td>1.0</td>\n",
       "      <td>0.0</td>\n",
       "      <td>0.0</td>\n",
       "      <td>1.0</td>\n",
       "      <td>0.0</td>\n",
       "      <td>0.0</td>\n",
       "      <td>0.0</td>\n",
       "      <td>0.0</td>\n",
       "      <td>1.0</td>\n",
       "      <td>0.0</td>\n",
       "    </tr>\n",
       "    <tr>\n",
       "      <th>5575-GNVDE</th>\n",
       "      <td>0</td>\n",
       "      <td>0</td>\n",
       "      <td>0</td>\n",
       "      <td>0</td>\n",
       "      <td>0.066327</td>\n",
       "      <td>1</td>\n",
       "      <td>0</td>\n",
       "      <td>1</td>\n",
       "      <td>0</td>\n",
       "      <td>1</td>\n",
       "      <td>...</td>\n",
       "      <td>1.0</td>\n",
       "      <td>0.0</td>\n",
       "      <td>0.0</td>\n",
       "      <td>0.0</td>\n",
       "      <td>1.0</td>\n",
       "      <td>0.0</td>\n",
       "      <td>0.0</td>\n",
       "      <td>0.0</td>\n",
       "      <td>0.0</td>\n",
       "      <td>1.0</td>\n",
       "    </tr>\n",
       "    <tr>\n",
       "      <th>3668-QPYBK</th>\n",
       "      <td>0</td>\n",
       "      <td>0</td>\n",
       "      <td>0</td>\n",
       "      <td>0</td>\n",
       "      <td>-1.236724</td>\n",
       "      <td>1</td>\n",
       "      <td>0</td>\n",
       "      <td>1</td>\n",
       "      <td>1</td>\n",
       "      <td>0</td>\n",
       "      <td>...</td>\n",
       "      <td>1.0</td>\n",
       "      <td>0.0</td>\n",
       "      <td>0.0</td>\n",
       "      <td>1.0</td>\n",
       "      <td>0.0</td>\n",
       "      <td>0.0</td>\n",
       "      <td>0.0</td>\n",
       "      <td>0.0</td>\n",
       "      <td>0.0</td>\n",
       "      <td>1.0</td>\n",
       "    </tr>\n",
       "    <tr>\n",
       "      <th>7795-CFOCW</th>\n",
       "      <td>0</td>\n",
       "      <td>0</td>\n",
       "      <td>0</td>\n",
       "      <td>0</td>\n",
       "      <td>0.514251</td>\n",
       "      <td>0</td>\n",
       "      <td>0</td>\n",
       "      <td>1</td>\n",
       "      <td>0</td>\n",
       "      <td>1</td>\n",
       "      <td>...</td>\n",
       "      <td>1.0</td>\n",
       "      <td>0.0</td>\n",
       "      <td>0.0</td>\n",
       "      <td>0.0</td>\n",
       "      <td>1.0</td>\n",
       "      <td>0.0</td>\n",
       "      <td>1.0</td>\n",
       "      <td>0.0</td>\n",
       "      <td>0.0</td>\n",
       "      <td>0.0</td>\n",
       "    </tr>\n",
       "    <tr>\n",
       "      <th>9237-HQITU</th>\n",
       "      <td>1</td>\n",
       "      <td>0</td>\n",
       "      <td>0</td>\n",
       "      <td>0</td>\n",
       "      <td>-1.236724</td>\n",
       "      <td>1</td>\n",
       "      <td>0</td>\n",
       "      <td>0</td>\n",
       "      <td>0</td>\n",
       "      <td>0</td>\n",
       "      <td>...</td>\n",
       "      <td>0.0</td>\n",
       "      <td>1.0</td>\n",
       "      <td>0.0</td>\n",
       "      <td>1.0</td>\n",
       "      <td>0.0</td>\n",
       "      <td>0.0</td>\n",
       "      <td>0.0</td>\n",
       "      <td>0.0</td>\n",
       "      <td>1.0</td>\n",
       "      <td>0.0</td>\n",
       "    </tr>\n",
       "  </tbody>\n",
       "</table>\n",
       "<p>5 rows × 27 columns</p>\n",
       "</div>"
      ],
      "text/plain": [
       "            gender  SeniorCitizen  Partner  Dependents    tenure  \\\n",
       "customerID                                                         \n",
       "7590-VHVEG       1              0        1           0 -1.277445   \n",
       "5575-GNVDE       0              0        0           0  0.066327   \n",
       "3668-QPYBK       0              0        0           0 -1.236724   \n",
       "7795-CFOCW       0              0        0           0  0.514251   \n",
       "9237-HQITU       1              0        0           0 -1.236724   \n",
       "\n",
       "            PhoneService  MultipleLines  OnlineSecurity  OnlineBackup  \\\n",
       "customerID                                                              \n",
       "7590-VHVEG             0              0               0             1   \n",
       "5575-GNVDE             1              0               1             0   \n",
       "3668-QPYBK             1              0               1             1   \n",
       "7795-CFOCW             0              0               1             0   \n",
       "9237-HQITU             1              0               0             0   \n",
       "\n",
       "            DeviceProtection  ...  x0_DSL  x0_Fiber optic  x0_No  \\\n",
       "customerID                    ...                                  \n",
       "7590-VHVEG                 0  ...     1.0             0.0    0.0   \n",
       "5575-GNVDE                 1  ...     1.0             0.0    0.0   \n",
       "3668-QPYBK                 0  ...     1.0             0.0    0.0   \n",
       "7795-CFOCW                 1  ...     1.0             0.0    0.0   \n",
       "9237-HQITU                 0  ...     0.0             1.0    0.0   \n",
       "\n",
       "            x1_Month-to-month  x1_One year  x1_Two year  \\\n",
       "customerID                                                \n",
       "7590-VHVEG                1.0          0.0          0.0   \n",
       "5575-GNVDE                0.0          1.0          0.0   \n",
       "3668-QPYBK                1.0          0.0          0.0   \n",
       "7795-CFOCW                0.0          1.0          0.0   \n",
       "9237-HQITU                1.0          0.0          0.0   \n",
       "\n",
       "            x2_Bank transfer (automatic)  x2_Credit card (automatic)  \\\n",
       "customerID                                                             \n",
       "7590-VHVEG                           0.0                         0.0   \n",
       "5575-GNVDE                           0.0                         0.0   \n",
       "3668-QPYBK                           0.0                         0.0   \n",
       "7795-CFOCW                           1.0                         0.0   \n",
       "9237-HQITU                           0.0                         0.0   \n",
       "\n",
       "            x2_Electronic check  x2_Mailed check  \n",
       "customerID                                        \n",
       "7590-VHVEG                  1.0              0.0  \n",
       "5575-GNVDE                  0.0              1.0  \n",
       "3668-QPYBK                  0.0              1.0  \n",
       "7795-CFOCW                  0.0              0.0  \n",
       "9237-HQITU                  1.0              0.0  \n",
       "\n",
       "[5 rows x 27 columns]"
      ]
     },
     "execution_count": 87,
     "metadata": {},
     "output_type": "execute_result"
    }
   ],
   "source": [
    "df.head()"
   ]
  },
  {
   "cell_type": "code",
   "execution_count": 88,
   "metadata": {},
   "outputs": [
    {
     "data": {
      "text/plain": [
       "count    7043.000000\n",
       "mean        0.265370\n",
       "std         0.441561\n",
       "min         0.000000\n",
       "25%         0.000000\n",
       "50%         0.000000\n",
       "75%         1.000000\n",
       "max         1.000000\n",
       "Name: Churn, dtype: float64"
      ]
     },
     "execution_count": 88,
     "metadata": {},
     "output_type": "execute_result"
    }
   ],
   "source": [
    "df['Churn'].describe()"
   ]
  },
  {
   "cell_type": "code",
   "execution_count": 89,
   "metadata": {},
   "outputs": [
    {
     "data": {
      "text/plain": [
       "<AxesSubplot:>"
      ]
     },
     "execution_count": 89,
     "metadata": {},
     "output_type": "execute_result"
    },
    {
     "data": {
      "image/png": "[encoded data removed]",
      "text/plain": [
       "<Figure size 864x648 with 2 Axes>"
      ]
     },
     "metadata": {
      "needs_background": "light"
     },
     "output_type": "display_data"
    }
   ],
   "source": [
    "corrmat = df.corr()\n",
    "f, ax = plt.subplots(figsize=(12,9))\n",
    "sns.heatmap(corrmat, cmap=\"Greens\", square=True)"
   ]
  },
  {
   "cell_type": "markdown",
   "metadata": {},
   "source": [
    "Seems like Month to month, fibre optic and electronic check are positively correlated."
   ]
  },
  {
   "cell_type": "markdown",
   "metadata": {},
   "source": [
    "#                                                 Machine Learning"
   ]
  },
  {
   "cell_type": "code",
   "execution_count": 90,
   "metadata": {},
   "outputs": [],
   "source": [
    "#import sklearn to train/test split\n",
    "from sklearn.model_selection import train_test_split"
   ]
  },
  {
   "cell_type": "markdown",
   "metadata": {},
   "source": [
    "Check for NA values in new Data Frame and replace with Median"
   ]
  },
  {
   "cell_type": "code",
   "execution_count": 91,
   "metadata": {},
   "outputs": [
    {
     "data": {
      "text/plain": [
       "gender                           0\n",
       "SeniorCitizen                    0\n",
       "Partner                          0\n",
       "Dependents                       0\n",
       "tenure                           0\n",
       "PhoneService                     0\n",
       "MultipleLines                    0\n",
       "OnlineSecurity                   0\n",
       "OnlineBackup                     0\n",
       "DeviceProtection                 0\n",
       "TechSupport                      0\n",
       "StreamingTV                      0\n",
       "StreamingMovies                  0\n",
       "PaperlessBilling                 0\n",
       "MonthlyCharges                   0\n",
       "TotalCharges                    11\n",
       "Churn                            0\n",
       "x0_DSL                           0\n",
       "x0_Fiber optic                   0\n",
       "x0_No                            0\n",
       "x1_Month-to-month                0\n",
       "x1_One year                      0\n",
       "x1_Two year                      0\n",
       "x2_Bank transfer (automatic)     0\n",
       "x2_Credit card (automatic)       0\n",
       "x2_Electronic check              0\n",
       "x2_Mailed check                  0\n",
       "dtype: int64"
      ]
     },
     "execution_count": 91,
     "metadata": {},
     "output_type": "execute_result"
    }
   ],
   "source": [
    "#what still has NA :o\n",
    "df.isna().sum()"
   ]
  },
  {
   "cell_type": "code",
   "execution_count": 92,
   "metadata": {},
   "outputs": [],
   "source": [
    "df.TotalCharges = df.TotalCharges.fillna(df['TotalCharges'].median())"
   ]
  },
  {
   "cell_type": "markdown",
   "metadata": {},
   "source": [
    "Split Data into Train and Test"
   ]
  },
  {
   "cell_type": "code",
   "execution_count": 93,
   "metadata": {},
   "outputs": [],
   "source": [
    "#splitting the data here to 33% test and 67% train. Here our 'Y' Variable is churn as thats your main var\n",
    "x_train, x_test, y_train, y_test = train_test_split( df.drop(columns=['Churn']), df.Churn, test_size=0.33, random_state=42)"
   ]
  },
  {
   "cell_type": "code",
   "execution_count": 94,
   "metadata": {},
   "outputs": [
    {
     "name": "stdout",
     "output_type": "stream",
     "text": [
      "xTrain:              gender  SeniorCitizen  Partner  Dependents    tenure  \\\n",
      "customerID                                                         \n",
      "2985-JUUBZ       0              0        1           1  0.310650   \n",
      "5016-ETTFF       0              0        0           0 -0.910961   \n",
      "1998-VHJHK       1              0        0           0 -0.218715   \n",
      "1925-TIBLE       1              0        1           0 -1.033122   \n",
      "0485-ZBSLN       0              0        1           1  1.328659   \n",
      "...            ...            ...      ...         ...       ...   \n",
      "0684-AOSIH       0              0        1           0 -1.277445   \n",
      "5982-PSMKW       1              0        1           1 -0.381597   \n",
      "8044-BGWPI       0              0        1           1 -0.829521   \n",
      "7450-NWRTR       0              1        0           0 -0.829521   \n",
      "4795-UXVCJ       0              0        0           0 -0.259435   \n",
      "\n",
      "            PhoneService  MultipleLines  OnlineSecurity  OnlineBackup  \\\n",
      "customerID                                                              \n",
      "2985-JUUBZ             1              1               0             0   \n",
      "5016-ETTFF             0              0               0             0   \n",
      "1998-VHJHK             1              0               0             0   \n",
      "1925-TIBLE             1              1               0             0   \n",
      "0485-ZBSLN             1              1               0             0   \n",
      "...                  ...            ...             ...           ...   \n",
      "0684-AOSIH             1              0               1             0   \n",
      "5982-PSMKW             1              1               1             1   \n",
      "8044-BGWPI             1              0               0             0   \n",
      "7450-NWRTR             1              1               0             0   \n",
      "4795-UXVCJ             1              0               0             0   \n",
      "\n",
      "            DeviceProtection  ...  x0_DSL  x0_Fiber optic  x0_No  \\\n",
      "customerID                    ...                                  \n",
      "2985-JUUBZ                 1  ...     1.0             0.0    0.0   \n",
      "5016-ETTFF                 1  ...     1.0             0.0    0.0   \n",
      "1998-VHJHK                 0  ...     0.0             0.0    1.0   \n",
      "1925-TIBLE                 0  ...     0.0             1.0    0.0   \n",
      "0485-ZBSLN                 0  ...     0.0             0.0    1.0   \n",
      "...                      ...  ...     ...             ...    ...   \n",
      "0684-AOSIH                 0  ...     0.0             1.0    0.0   \n",
      "5982-PSMKW                 1  ...     1.0             0.0    0.0   \n",
      "8044-BGWPI                 0  ...     0.0             0.0    1.0   \n",
      "7450-NWRTR                 1  ...     0.0             1.0    0.0   \n",
      "4795-UXVCJ                 0  ...     0.0             0.0    1.0   \n",
      "\n",
      "            x1_Month-to-month  x1_One year  x1_Two year  \\\n",
      "customerID                                                \n",
      "2985-JUUBZ                1.0          0.0          0.0   \n",
      "5016-ETTFF                1.0          0.0          0.0   \n",
      "1998-VHJHK                0.0          1.0          0.0   \n",
      "1925-TIBLE                1.0          0.0          0.0   \n",
      "0485-ZBSLN                0.0          0.0          1.0   \n",
      "...                       ...          ...          ...   \n",
      "0684-AOSIH                1.0          0.0          0.0   \n",
      "5982-PSMKW                0.0          0.0          1.0   \n",
      "8044-BGWPI                1.0          0.0          0.0   \n",
      "7450-NWRTR                1.0          0.0          0.0   \n",
      "4795-UXVCJ                0.0          1.0          0.0   \n",
      "\n",
      "            x2_Bank transfer (automatic)  x2_Credit card (automatic)  \\\n",
      "customerID                                                             \n",
      "2985-JUUBZ                           0.0                         0.0   \n",
      "5016-ETTFF                           0.0                         0.0   \n",
      "1998-VHJHK                           0.0                         0.0   \n",
      "1925-TIBLE                           0.0                         0.0   \n",
      "0485-ZBSLN                           0.0                         1.0   \n",
      "...                                  ...                         ...   \n",
      "0684-AOSIH                           0.0                         0.0   \n",
      "5982-PSMKW                           0.0                         1.0   \n",
      "8044-BGWPI                           0.0                         0.0   \n",
      "7450-NWRTR                           0.0                         0.0   \n",
      "4795-UXVCJ                           0.0                         1.0   \n",
      "\n",
      "            x2_Electronic check  x2_Mailed check  \n",
      "customerID                                        \n",
      "2985-JUUBZ                  1.0              0.0  \n",
      "5016-ETTFF                  0.0              1.0  \n",
      "1998-VHJHK                  0.0              1.0  \n",
      "1925-TIBLE                  1.0              0.0  \n",
      "0485-ZBSLN                  0.0              0.0  \n",
      "...                         ...              ...  \n",
      "0684-AOSIH                  1.0              0.0  \n",
      "5982-PSMKW                  0.0              0.0  \n",
      "8044-BGWPI                  1.0              0.0  \n",
      "7450-NWRTR                  1.0              0.0  \n",
      "4795-UXVCJ                  0.0              0.0  \n",
      "\n",
      "[4718 rows x 26 columns]\n",
      "xTest:              gender  SeniorCitizen  Partner  Dependents    tenure  \\\n",
      "customerID                                                         \n",
      "1024-GUALD       1              0        1           0 -1.277445   \n",
      "0484-JPBRU       0              0        0           0  0.351370   \n",
      "3620-EHIMZ       1              0        1           1  0.799294   \n",
      "6910-HADCM       1              0        0           0 -1.277445   \n",
      "8587-XYZSF       0              0        0           0  1.410099   \n",
      "...            ...            ...      ...         ...       ...   \n",
      "3836-FZSDJ       0              1        1           0  1.572981   \n",
      "1301-LOPVR       0              0        1           1 -0.137274   \n",
      "7479-NITWS       0              0        0           0 -1.033122   \n",
      "3312-UUMZW       0              0        1           0 -0.015113   \n",
      "0060-FUALY       1              0        1           0  1.084337   \n",
      "\n",
      "            PhoneService  MultipleLines  OnlineSecurity  OnlineBackup  \\\n",
      "customerID                                                              \n",
      "1024-GUALD             0              0               0             0   \n",
      "0484-JPBRU             1              1               0             0   \n",
      "3620-EHIMZ             1              0               0             0   \n",
      "6910-HADCM             1              0               0             0   \n",
      "8587-XYZSF             1              0               0             0   \n",
      "...                  ...            ...             ...           ...   \n",
      "3836-FZSDJ             1              1               0             0   \n",
      "1301-LOPVR             0              0               1             1   \n",
      "7479-NITWS             1              1               0             0   \n",
      "3312-UUMZW             1              1               0             1   \n",
      "0060-FUALY             1              1               1             1   \n",
      "\n",
      "            DeviceProtection  ...  x0_DSL  x0_Fiber optic  x0_No  \\\n",
      "customerID                    ...                                  \n",
      "1024-GUALD                 0  ...     1.0             0.0    0.0   \n",
      "0484-JPBRU                 0  ...     0.0             0.0    1.0   \n",
      "3620-EHIMZ                 0  ...     0.0             0.0    1.0   \n",
      "6910-HADCM                 1  ...     0.0             1.0    0.0   \n",
      "8587-XYZSF                 0  ...     1.0             0.0    0.0   \n",
      "...                      ...  ...     ...             ...    ...   \n",
      "3836-FZSDJ                 0  ...     0.0             0.0    1.0   \n",
      "1301-LOPVR                 1  ...     1.0             0.0    0.0   \n",
      "7479-NITWS                 1  ...     0.0             1.0    0.0   \n",
      "3312-UUMZW                 0  ...     0.0             1.0    0.0   \n",
      "0060-FUALY                 0  ...     0.0             1.0    0.0   \n",
      "\n",
      "            x1_Month-to-month  x1_One year  x1_Two year  \\\n",
      "customerID                                                \n",
      "1024-GUALD                1.0          0.0          0.0   \n",
      "0484-JPBRU                1.0          0.0          0.0   \n",
      "3620-EHIMZ                0.0          0.0          1.0   \n",
      "6910-HADCM                1.0          0.0          0.0   \n",
      "8587-XYZSF                0.0          0.0          1.0   \n",
      "...                       ...          ...          ...   \n",
      "3836-FZSDJ                0.0          0.0          1.0   \n",
      "1301-LOPVR                0.0          1.0          0.0   \n",
      "7479-NITWS                1.0          0.0          0.0   \n",
      "3312-UUMZW                1.0          0.0          0.0   \n",
      "0060-FUALY                1.0          0.0          0.0   \n",
      "\n",
      "            x2_Bank transfer (automatic)  x2_Credit card (automatic)  \\\n",
      "customerID                                                             \n",
      "1024-GUALD                           0.0                         0.0   \n",
      "0484-JPBRU                           1.0                         0.0   \n",
      "3620-EHIMZ                           0.0                         0.0   \n",
      "6910-HADCM                           0.0                         0.0   \n",
      "8587-XYZSF                           1.0                         0.0   \n",
      "...                                  ...                         ...   \n",
      "3836-FZSDJ                           1.0                         0.0   \n",
      "1301-LOPVR                           0.0                         1.0   \n",
      "7479-NITWS                           0.0                         1.0   \n",
      "3312-UUMZW                           0.0                         1.0   \n",
      "0060-FUALY                           0.0                         0.0   \n",
      "\n",
      "            x2_Electronic check  x2_Mailed check  \n",
      "customerID                                        \n",
      "1024-GUALD                  1.0              0.0  \n",
      "0484-JPBRU                  0.0              0.0  \n",
      "3620-EHIMZ                  0.0              1.0  \n",
      "6910-HADCM                  1.0              0.0  \n",
      "8587-XYZSF                  0.0              0.0  \n",
      "...                         ...              ...  \n",
      "3836-FZSDJ                  0.0              0.0  \n",
      "1301-LOPVR                  0.0              0.0  \n",
      "7479-NITWS                  0.0              0.0  \n",
      "3312-UUMZW                  0.0              0.0  \n",
      "0060-FUALY                  1.0              0.0  \n",
      "\n",
      "[2325 rows x 26 columns]\n",
      "yTrain:  customerID\n",
      "2985-JUUBZ    0\n",
      "5016-ETTFF    1\n",
      "1998-VHJHK    0\n",
      "1925-TIBLE    1\n",
      "0485-ZBSLN    0\n",
      "             ..\n",
      "0684-AOSIH    1\n",
      "5982-PSMKW    0\n",
      "8044-BGWPI    0\n",
      "7450-NWRTR    1\n",
      "4795-UXVCJ    0\n",
      "Name: Churn, Length: 4718, dtype: int64\n",
      "yTest:  customerID\n",
      "1024-GUALD    1\n",
      "0484-JPBRU    0\n",
      "3620-EHIMZ    0\n",
      "6910-HADCM    1\n",
      "8587-XYZSF    0\n",
      "             ..\n",
      "3836-FZSDJ    0\n",
      "1301-LOPVR    0\n",
      "7479-NITWS    1\n",
      "3312-UUMZW    0\n",
      "0060-FUALY    0\n",
      "Name: Churn, Length: 2325, dtype: int64\n"
     ]
    }
   ],
   "source": [
    "print ('xTrain: ',x_train)\n",
    "print('xTest: ',x_test)\n",
    "print('yTrain: ',y_train)\n",
    "print('yTest: ',y_test)"
   ]
  },
  {
   "cell_type": "markdown",
   "metadata": {},
   "source": [
    "## Logistic Regression Model"
   ]
  },
  {
   "cell_type": "code",
   "execution_count": 95,
   "metadata": {},
   "outputs": [],
   "source": [
    "# Linear Regresssion to predict Churn\n",
    "from sklearn.linear_model import LogisticRegression\n",
    "reg = LogisticRegression().fit(x_train, y_train)\n",
    "y_pred = reg.predict(x_test)\n",
    "#Now are model has created a prediction or 'Y_prediction' to compare to our Y_test"
   ]
  },
  {
   "cell_type": "code",
   "execution_count": 96,
   "metadata": {},
   "outputs": [],
   "source": [
    "#import confusion matrix to check accuracy\n",
    "from sklearn.metrics import confusion_matrix"
   ]
  },
  {
   "cell_type": "code",
   "execution_count": 97,
   "metadata": {},
   "outputs": [
    {
     "data": {
      "text/plain": [
       "array([[1529,  168],\n",
       "       [ 257,  371]])"
      ]
     },
     "execution_count": 97,
     "metadata": {},
     "output_type": "execute_result"
    }
   ],
   "source": [
    "confusion_matrix(y_test, y_pred, labels=[0,1 ])"
   ]
  },
  {
   "cell_type": "code",
   "execution_count": 98,
   "metadata": {},
   "outputs": [],
   "source": [
    "#import Classification report to see how good it is\n",
    "from sklearn.metrics import classification_report"
   ]
  },
  {
   "cell_type": "code",
   "execution_count": 99,
   "metadata": {
    "scrolled": true
   },
   "outputs": [
    {
     "name": "stdout",
     "output_type": "stream",
     "text": [
      "              precision    recall  f1-score   support\n",
      "\n",
      "           0       0.86      0.90      0.88      1697\n",
      "           1       0.69      0.59      0.64       628\n",
      "\n",
      "    accuracy                           0.82      2325\n",
      "   macro avg       0.77      0.75      0.76      2325\n",
      "weighted avg       0.81      0.82      0.81      2325\n",
      "\n"
     ]
    }
   ],
   "source": [
    "#see your scores\n",
    "#Base Model says we got an accuracy of 82% woot Woot !!\n",
    "print(classification_report(y_test, y_pred, labels=[0,1]))"
   ]
  },
  {
   "cell_type": "code",
   "execution_count": 100,
   "metadata": {},
   "outputs": [
    {
     "name": "stdout",
     "output_type": "stream",
     "text": [
      "[1 0 0 ... 1 0 0]\n"
     ]
    }
   ],
   "source": [
    "print(y_pred)"
   ]
  },
  {
   "cell_type": "markdown",
   "metadata": {},
   "source": [
    "Probability of Customer Churning for all Customer ID"
   ]
  },
  {
   "cell_type": "code",
   "execution_count": 101,
   "metadata": {},
   "outputs": [
    {
     "data": {
      "text/plain": [
       "array([0.66300428, 0.06599087, 0.00459224, ..., 0.63239058, 0.49477522,\n",
       "       0.26069833])"
      ]
     },
     "execution_count": 101,
     "metadata": {},
     "output_type": "execute_result"
    }
   ],
   "source": [
    "#This is the predicted probability that customers will churn (or Churn = 1)\n",
    "reg.predict_proba(x_test)[:,1]"
   ]
  },
  {
   "cell_type": "code",
   "execution_count": 102,
   "metadata": {},
   "outputs": [],
   "source": [
    "from sklearn.metrics import plot_confusion_matrix"
   ]
  },
  {
   "cell_type": "code",
   "execution_count": 103,
   "metadata": {},
   "outputs": [
    {
     "data": {
      "text/plain": [
       "<sklearn.metrics._plot.confusion_matrix.ConfusionMatrixDisplay at 0x7f934cd4fe20>"
      ]
     },
     "execution_count": 103,
     "metadata": {},
     "output_type": "execute_result"
    },
    {
     "data": {
      "image/png": "[encoded data removed]",
      "text/plain": [
       "<Figure size 432x288 with 2 Axes>"
      ]
     },
     "metadata": {
      "needs_background": "light"
     },
     "output_type": "display_data"
    }
   ],
   "source": [
    "plot_confusion_matrix(reg, x_test, y_test)"
   ]
  },
  {
   "cell_type": "markdown",
   "metadata": {},
   "source": [
    "## Light GBM Model"
   ]
  },
  {
   "cell_type": "code",
   "execution_count": 104,
   "metadata": {},
   "outputs": [],
   "source": [
    "import lightgbm as lgb \n",
    "model = lgb.LGBMClassifier(num_leaves=30,n_estimators=100,learning_rate=0.02)\n",
    "model.fit(x_train, y_train)    \n",
    "y_pred = model.predict(x_test)"
   ]
  },
  {
   "cell_type": "code",
   "execution_count": 105,
   "metadata": {},
   "outputs": [
    {
     "name": "stdout",
     "output_type": "stream",
     "text": [
      "              precision    recall  f1-score   support\n",
      "\n",
      "           0       0.83      0.93      0.88      1697\n",
      "           1       0.72      0.47      0.57       628\n",
      "\n",
      "    accuracy                           0.81      2325\n",
      "   macro avg       0.77      0.70      0.72      2325\n",
      "weighted avg       0.80      0.81      0.79      2325\n",
      "\n"
     ]
    },
    {
     "data": {
      "image/png": "[encoded data removed]",
      "text/plain": [
       "<Figure size 432x288 with 2 Axes>"
      ]
     },
     "metadata": {
      "needs_background": "light"
     },
     "output_type": "display_data"
    }
   ],
   "source": [
    "#Now we print confusion matrix and Classification Report for New Model\n",
    "plot_confusion_matrix(model, x_test, y_test)\n",
    "print(classification_report(y_test, y_pred, labels=[0,1]))"
   ]
  },
  {
   "cell_type": "markdown",
   "metadata": {},
   "source": [
    "## Support Vector Machine Model"
   ]
  },
  {
   "cell_type": "code",
   "execution_count": 106,
   "metadata": {},
   "outputs": [],
   "source": [
    "from sklearn import svm"
   ]
  },
  {
   "cell_type": "code",
   "execution_count": 107,
   "metadata": {},
   "outputs": [],
   "source": [
    "clf = svm.SVC()"
   ]
  },
  {
   "cell_type": "code",
   "execution_count": 108,
   "metadata": {},
   "outputs": [
    {
     "data": {
      "text/plain": [
       "SVC()"
      ]
     },
     "execution_count": 108,
     "metadata": {},
     "output_type": "execute_result"
    }
   ],
   "source": [
    "clf.fit(x_train, y_train)"
   ]
  },
  {
   "cell_type": "code",
   "execution_count": 109,
   "metadata": {},
   "outputs": [],
   "source": [
    "y_pred = clf.predict(x_test)"
   ]
  },
  {
   "cell_type": "code",
   "execution_count": 110,
   "metadata": {},
   "outputs": [
    {
     "name": "stdout",
     "output_type": "stream",
     "text": [
      "              precision    recall  f1-score   support\n",
      "\n",
      "           0       0.84      0.92      0.87      1697\n",
      "           1       0.70      0.51      0.59       628\n",
      "\n",
      "    accuracy                           0.81      2325\n",
      "   macro avg       0.77      0.72      0.73      2325\n",
      "weighted avg       0.80      0.81      0.80      2325\n",
      "\n"
     ]
    },
    {
     "data": {
      "image/png": "[encoded data removed]",
      "text/plain": [
       "<Figure size 432x288 with 2 Axes>"
      ]
     },
     "metadata": {
      "needs_background": "light"
     },
     "output_type": "display_data"
    }
   ],
   "source": [
    "plot_confusion_matrix(clf, x_test, y_test)\n",
    "print(classification_report(y_test, y_pred, labels=[0,1]))"
   ]
  }
 ],
 "metadata": {
  "kernelspec": {
   "display_name": "Python 3 (ipykernel)",
   "language": "python",
   "name": "python3"
  },
  "language_info": {
   "codemirror_mode": {
    "name": "ipython",
    "version": 3
   },
   "file_extension": ".py",
   "mimetype": "text/x-python",
   "name": "python",
   "nbconvert_exporter": "python",
   "pygments_lexer": "ipython3",
   "version": "3.9.7"
  }
 },
 "nbformat": 4,
 "nbformat_minor": 2
}
